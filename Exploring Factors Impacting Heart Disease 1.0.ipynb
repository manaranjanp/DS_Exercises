{
 "cells": [
  {
   "cell_type": "markdown",
   "metadata": {},
   "source": [
    "### Step 1: Loading the dataset\n",
    "\n",
    "- Load the data file SAheart.data. This is csv file."
   ]
  },
  {
   "cell_type": "markdown",
   "metadata": {},
   "source": [
    "### Stpe 2: Finding Metadata \n",
    "\n",
    "- Find how many rows and columns available in the dataset.\n",
    "- Find the columns types of the dataset."
   ]
  },
  {
   "cell_type": "markdown",
   "metadata": {},
   "source": [
    "### Step 3: Print Records\n",
    "\n",
    "- Print first 5 records of the dataset\n",
    "- Print last 5 records of the dataset\n",
    "- Print records with index ranging from 10 to 20 with columns \"sbp\", \"ldl\" and \"chd\"."
   ]
  },
  {
   "cell_type": "markdown",
   "metadata": {},
   "source": [
    "### Step 4: How many persons have *chd* and *no chd* in the dataset?\n",
    "\n",
    "- Normalize the results with respect to total number of records in the dataset"
   ]
  },
  {
   "cell_type": "markdown",
   "metadata": {},
   "source": [
    "### Step 5: Does *famhist* have any impact on *chd*?\n",
    "\n",
    "Note: Draw a catplot. Refer to the link below.\n",
    "\n",
    "https://seaborn.pydata.org/generated/seaborn.catplot.html"
   ]
  },
  {
   "cell_type": "markdown",
   "metadata": {},
   "source": [
    "### Step 6: Are there any difference in alcohol consumption pattern between persons having *chd* and persons having *no chd*?"
   ]
  },
  {
   "cell_type": "markdown",
   "metadata": {},
   "source": [
    "### Step 7: Does *age* has any impact on *chd*?\n",
    "\n",
    "Note: Overlapped distribution plot."
   ]
  },
  {
   "cell_type": "markdown",
   "metadata": {},
   "source": [
    "### Step 8: Create a column called \"has_chd\" and set to 1 if the person has chd or set to 0 if the person does not has chd."
   ]
  },
  {
   "cell_type": "markdown",
   "metadata": {},
   "source": [
    "### Step 9: Are ldl and obesity has any correlation?\n",
    "\n",
    "Note: Draw a scatter plot."
   ]
  },
  {
   "cell_type": "markdown",
   "metadata": {},
   "source": [
    "### Step 10: Create a heatmap between the following variables?\n",
    "\n",
    "- ldl\n",
    "- obeisity\n",
    "- tobacco\n",
    "- age\n",
    "- sbp\n",
    "- typea\n",
    "\n",
    "Infer which two variables are most correlated?"
   ]
  },
  {
   "cell_type": "markdown",
   "metadata": {},
   "source": [
    "### Step 11: What is the range of ldl and sbp for 95% of people suffering from chd?"
   ]
  },
  {
   "cell_type": "markdown",
   "metadata": {},
   "source": [
    "### Step 12: Are the age of some people suffering from chd seem abnormal?"
   ]
  }
 ],
 "metadata": {
  "kernelspec": {
   "display_name": "Python [conda env:py37]",
   "language": "python",
   "name": "conda-env-py37-py"
  },
  "language_info": {
   "codemirror_mode": {
    "name": "ipython",
    "version": 3
   },
   "file_extension": ".py",
   "mimetype": "text/x-python",
   "name": "python",
   "nbconvert_exporter": "python",
   "pygments_lexer": "ipython3",
   "version": "3.7.3"
  }
 },
 "nbformat": 4,
 "nbformat_minor": 2
}
