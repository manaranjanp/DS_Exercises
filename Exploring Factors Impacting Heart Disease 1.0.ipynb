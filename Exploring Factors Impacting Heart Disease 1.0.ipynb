{
 "cells": [
  {
   "cell_type": "markdown",
   "metadata": {},
   "source": [
    "# Coronary Heart Disease\n",
    "\n",
    "\n",
    "A retrospective sample of males in a heart-disease high-risk region\n",
    "of the Western Cape, South Africa. There are roughly two controls per\n",
    "case of CHD. Many of the CHD positive men have undergone blood\n",
    "pressure reduction treatment and other programs to reduce their risk\n",
    "factors after their CHD event. In some cases the measurements were\n",
    "made after these treatments. These data are taken from a larger\n",
    "dataset, described in  Rousseauw et al, 1983, South African Medical\n",
    "Journal. \n",
    "\n",
    "- *sbp*\t-\tsystolic blood pressure\n",
    "- *tobacco*\t-\tcumulative tobacco (kg)\n",
    "- *ldl*\t-\tlow densiity lipoprotein cholesterol\n",
    "- *adiposity* - https://en.m.wikipedia.org/wiki/Body_adiposity_index\n",
    "- *famhist*\t-\tfamily history of heart disease (Present, Absent)\n",
    "- *typea*\t-\ttype-A behavior\n",
    "- *obesity* - https://en.wikipedia.org/wiki/Obesity\n",
    "- *alcohol*\t-\tcurrent alcohol consumption\n",
    "- *age*\t-\tage at onset\n",
    "- *chd*\t-\tresponse, coronary heart disease\n",
    "\n",
    "The dataset is taken from \n",
    "\n",
    "http://www-stat.stanford.edu/~tibs/ElemStatLearn/datasets/SAheart.data\n",
    "\n",
    "Description is available at\n",
    "\n",
    "https://web.stanford.edu/~hastie/ElemStatLearn/datasets/SAheart.info.txt"
   ]
  },
  {
   "cell_type": "markdown",
   "metadata": {},
   "source": [
    "### Step 1: Loading the dataset\n",
    "\n",
    "- Load the data file SAheart.data. This is csv file."
   ]
  },
  {
   "cell_type": "markdown",
   "metadata": {},
   "source": [
    "### Step 2: Finding Metadata \n",
    "\n",
    "- Find how many rows and columns available in the dataset.\n",
    "- Find the columns types of the dataset."
   ]
  },
  {
   "cell_type": "markdown",
   "metadata": {},
   "source": [
    "### Step 3: Print Records\n",
    "\n",
    "- Print first 5 records of the dataset\n",
    "- Print last 5 records of the dataset\n",
    "- Print records with index ranging from 10 to 20 with columns \"sbp\", \"ldl\" and \"chd\"."
   ]
  },
  {
   "cell_type": "markdown",
   "metadata": {},
   "source": [
    "### Step 4: How many persons have *chd* and *no chd* in the dataset?\n",
    "\n",
    "- Normalize the results with respect to total number of records in the dataset"
   ]
  },
  {
   "cell_type": "markdown",
   "metadata": {},
   "source": [
    "### Step 5: Does *famhist* have any impact on *chd*?\n",
    "\n",
    "https://seaborn.pydata.org/generated/seaborn.catplot.html\n",
    "\n",
    "Note: Draw a catplot. Refer to the link below. Set the values as below.\n",
    "\n",
    "- x = 'famhist'\n",
    "- kind = 'count'\n",
    "- hue = 'chd'\n"
   ]
  },
  {
   "cell_type": "markdown",
   "metadata": {},
   "source": [
    "### Step 6: Is there any difference in alcohol consumption pattern between persons having *chd* and persons having *no chd*?"
   ]
  },
  {
   "cell_type": "markdown",
   "metadata": {},
   "source": [
    "### Step 7: Does *age* has any impact on *chd*?\n",
    "\n",
    "Note: Overlapped distribution plot."
   ]
  },
  {
   "cell_type": "markdown",
   "metadata": {},
   "source": [
    "### Step 8: Create a column called \"has_famhist\" and set to 1 if the person has famhist \"Present\" or set to 0 if the person has famhist \"Absent\""
   ]
  },
  {
   "cell_type": "markdown",
   "metadata": {},
   "source": [
    "### Step 9: Are ldl and obesity correlated? Do they have positive or negative correlation?\n",
    "\n",
    "Note: Draw a scatter plot."
   ]
  },
  {
   "cell_type": "markdown",
   "metadata": {},
   "source": [
    "### Step 10: Create a heatmap between the following variables?\n",
    "\n",
    "- ldl\n",
    "- obeisity\n",
    "- tobacco\n",
    "- age\n",
    "- sbp\n",
    "- typea\n",
    "\n",
    "Infer which two variables are most correlated?"
   ]
  },
  {
   "cell_type": "markdown",
   "metadata": {},
   "source": [
    "### Step 11: What is the range of ldl and sbp for 95% of people suffering from chd?"
   ]
  },
  {
   "cell_type": "markdown",
   "metadata": {},
   "source": [
    "### Step 12: Are the age of some people suffering from chd seem abnormal i.e. very low age?\n",
    "\n",
    "Note: Find Outliers"
   ]
  },
  {
   "cell_type": "markdown",
   "metadata": {},
   "source": [
    "### Note:\n",
    "\n",
    "**Name**: &lt;Fill your Name Here &gt;\n",
    "\n",
    "After completing the exercises, export the file as html file and store it."
   ]
  }
 ],
 "metadata": {
  "kernelspec": {
   "display_name": "Python [conda env:py37]",
   "language": "python",
   "name": "conda-env-py37-py"
  },
  "language_info": {
   "codemirror_mode": {
    "name": "ipython",
    "version": 3
   },
   "file_extension": ".py",
   "mimetype": "text/x-python",
   "name": "python",
   "nbconvert_exporter": "python",
   "pygments_lexer": "ipython3",
   "version": "3.7.3"
  }
 },
 "nbformat": 4,
 "nbformat_minor": 2
}
