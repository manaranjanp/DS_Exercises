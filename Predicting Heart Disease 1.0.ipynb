{
 "cells": [
  {
   "cell_type": "markdown",
   "metadata": {},
   "source": [
    "# Coronary Heart Disease\n",
    "\n",
    "\n",
    "A retrospective sample of males in a heart-disease high-risk region\n",
    "of the Western Cape, South Africa. There are roughly two controls per\n",
    "case of CHD. Many of the CHD positive men have undergone blood\n",
    "pressure reduction treatment and other programs to reduce their risk\n",
    "factors after their CHD event. In some cases the measurements were\n",
    "made after these treatments. These data are taken from a larger\n",
    "dataset, described in  Rousseauw et al, 1983, South African Medical\n",
    "Journal. \n",
    "\n",
    "- *sbp*\t-\tsystolic blood pressure\n",
    "- *tobacco*\t-\tcumulative tobacco (kg)\n",
    "- *ldl*\t-\tlow densiity lipoprotein cholesterol\n",
    "- *adiposity* - https://en.m.wikipedia.org/wiki/Body_adiposity_index\n",
    "- *famhist*\t-\tfamily history of heart disease (Present, Absent)\n",
    "- *typea*\t-\ttype-A behavior\n",
    "- *obesity* - https://en.wikipedia.org/wiki/Obesity\n",
    "- *alcohol*\t-\tcurrent alcohol consumption\n",
    "- *age*\t-\tage at onset\n",
    "- *chd*\t-\tresponse, coronary heart disease\n",
    "\n",
    "The dataset is taken from \n",
    "\n",
    "http://www-stat.stanford.edu/~tibs/ElemStatLearn/datasets/SAheart.data\n",
    "\n",
    "Description is available at\n",
    "\n",
    "https://web.stanford.edu/~hastie/ElemStatLearn/datasets/SAheart.info.txt"
   ]
  },
  {
   "cell_type": "markdown",
   "metadata": {},
   "source": [
    "### Step 1: Loading the dataset\n",
    "\n",
    "- Load the data file SAheart.data. This is csv file."
   ]
  },
  {
   "cell_type": "markdown",
   "metadata": {},
   "source": [
    "### Stpe 2: Finding Metadata \n",
    "\n",
    "- Find how many rows and columns available in the dataset.\n",
    "- Find the columns types of the dataset."
   ]
  },
  {
   "cell_type": "markdown",
   "metadata": {},
   "source": [
    "### Step 4: Encode the categorical variable *famhist* using OHE (One Hot Encoding)"
   ]
  },
  {
   "cell_type": "markdown",
   "metadata": {},
   "source": [
    "### Step 5: Split the dataset into train and test \n",
    "\n",
    "Note: Split using 80:20 rule. Use random_state value 100.\n"
   ]
  },
  {
   "cell_type": "markdown",
   "metadata": {},
   "source": [
    "### Step 6: Build a Classification Model\n",
    "\n",
    "Note: Use any one of the following models:\n",
    "\n",
    "1. Logistic Regression\n",
    "2. KNN\n",
    "3. Decision Tree"
   ]
  },
  {
   "cell_type": "markdown",
   "metadata": {},
   "source": [
    "### Step 7: Predict on the test set to find the predicted probability for *chd* classes"
   ]
  },
  {
   "cell_type": "markdown",
   "metadata": {},
   "source": [
    "### Step 8: Find the ROC AUC Score"
   ]
  },
  {
   "cell_type": "markdown",
   "metadata": {},
   "source": [
    "### Step 9: Find the optimal probabililty cutoff using the following costs for FPs and FNs\n",
    "\n",
    "- FP_Cost = 1.0\n",
    "- FN_Cost = 1.0\n",
    "\n",
    "Note: The cost for false positive and false negatives are same."
   ]
  },
  {
   "cell_type": "markdown",
   "metadata": {},
   "source": [
    "### Step 10: Predict the labels on test set using the optimal cutoff probability value.\n",
    "\n",
    "Note: Use the cutoff probability to predict if the person is likely to have chd or not.\n"
   ]
  },
  {
   "cell_type": "markdown",
   "metadata": {},
   "source": [
    "### Step 11: Create confusion matrix"
   ]
  },
  {
   "cell_type": "markdown",
   "metadata": {},
   "source": [
    "### Step 12: Find the Precision and recall for the *chd* classes."
   ]
  }
 ],
 "metadata": {
  "kernelspec": {
   "display_name": "Python [conda env:py37]",
   "language": "python",
   "name": "conda-env-py37-py"
  },
  "language_info": {
   "codemirror_mode": {
    "name": "ipython",
    "version": 3
   },
   "file_extension": ".py",
   "mimetype": "text/x-python",
   "name": "python",
   "nbconvert_exporter": "python",
   "pygments_lexer": "ipython3",
   "version": "3.7.3"
  }
 },
 "nbformat": 4,
 "nbformat_minor": 2
}
