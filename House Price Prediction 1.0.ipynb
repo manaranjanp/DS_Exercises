{
 "cells": [
  {
   "cell_type": "markdown",
   "metadata": {},
   "source": [
    "# House Price Prediction\n",
    "\n",
    "This dataset contains house sale prices for King County, Seattle. It includes homes sold between May 2014 and May 2015.\n",
    "\n",
    "**Columns Description**\n",
    "\n",
    "- id - a notation for a house\n",
    "- date - Date house was sold\n",
    "- price - Price is prediction target\n",
    "- bedrooms - Number of Bedrooms/House\n",
    "- bathrooms - Number of bathrooms/House\n",
    "- sqft_living - square footage of the home\n",
    "- sqft_lot - square footage of the lot\n",
    "- floors - Total floors (levels) in house\n",
    "- waterfront - House which has a view to a waterfront\n",
    "- view - Has a view or not\n",
    "- condition - How good the condition is ( Overall )\n",
    "- grade - overall grade given to the housing unit, based on King County grading system\n",
    "- sqft_above - square footage of house apart from basement\n",
    "- sqft_basement - square footage of the basement\n",
    "- yr_built - Built Year\n",
    "- yr_renovated - Year when house was renovated\n",
    "- zipcode - zip\n",
    "- lat - Latitude coordinate\n",
    "- long - Longitude coordinate\n",
    "- sqft_living15 - Living room area in 2015(implies-- some renovations) This might or might not have affected the lotsize area\n",
    "- sqft_lot15 - lotSize area in 2015(implies-- some renovations)"
   ]
  },
  {
   "cell_type": "markdown",
   "metadata": {},
   "source": [
    "### Step1 : Load the dataset"
   ]
  },
  {
   "cell_type": "markdown",
   "metadata": {},
   "source": [
    "### Step 2: Select few variables for analysis\n",
    "\n",
    "Creat a new dataframe with only the following selected variables\n",
    "\n",
    "- price\n",
    "- bedrooms\n",
    "- bathrooms\n",
    "- sqft_living\n",
    "- sqft_lot\n",
    "- floors\n",
    "- sqft_above\n",
    "- sqft_above\n",
    "- sqft_living15\n",
    "- sqft_lot15"
   ]
  },
  {
   "cell_type": "markdown",
   "metadata": {},
   "source": [
    "### Step 4: Create a heatmap to understand which variables are highly correlated with price"
   ]
  },
  {
   "cell_type": "markdown",
   "metadata": {},
   "source": [
    "### Step 5: Set X and Y Variables\n",
    "\n",
    "Note: We are going to build a linear model to predict the price of the house using other variables\n",
    "\n",
    "- *price* will Y variable.\n",
    "- All other variables will be X variables."
   ]
  },
  {
   "cell_type": "markdown",
   "metadata": {},
   "source": [
    "### Step 6: Split the dataset: 80% as training and 20% as test set\n",
    "\n",
    "Note: Use random state as 100"
   ]
  },
  {
   "cell_type": "markdown",
   "metadata": {},
   "source": [
    "### Step 7: Verify the R-squared for linear model using K Fold Cross Validation\n",
    "\n",
    "Note: Use k=10"
   ]
  },
  {
   "cell_type": "markdown",
   "metadata": {},
   "source": [
    "### Step 8: Build a linear regression model using training set"
   ]
  },
  {
   "cell_type": "markdown",
   "metadata": {},
   "source": [
    "### Step 9: Predict price on test set"
   ]
  },
  {
   "cell_type": "markdown",
   "metadata": {},
   "source": [
    "### Step 10: Calculate RMSE"
   ]
  },
  {
   "cell_type": "markdown",
   "metadata": {},
   "source": [
    "### Step 11: Save the model into a file"
   ]
  }
 ],
 "metadata": {
  "kernelspec": {
   "display_name": "Python [conda env:py37]",
   "language": "python",
   "name": "conda-env-py37-py"
  },
  "language_info": {
   "codemirror_mode": {
    "name": "ipython",
    "version": 3
   },
   "file_extension": ".py",
   "mimetype": "text/x-python",
   "name": "python",
   "nbconvert_exporter": "python",
   "pygments_lexer": "ipython3",
   "version": "3.7.3"
  }
 },
 "nbformat": 4,
 "nbformat_minor": 2
}
