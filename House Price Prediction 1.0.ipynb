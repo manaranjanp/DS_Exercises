{
 "cells": [
  {
   "cell_type": "markdown",
   "metadata": {},
   "source": [
    "# House Price Prediction\n",
    "\n",
    "This dataset contains house sale prices for King County, Seattle. It includes homes sold between May 2014 and May 2015.\n",
    "\n",
    "##### Data file: kc_house_data.csv\n",
    "\n",
    "**Columns Description**\n",
    "\n",
    "- id - A notation for a house (Sequence Number)\n",
    "- date - Date house was sold\n",
    "- price - Price of the house (prediction target)\n",
    "- bedrooms - Number of Bedrooms/House\n",
    "- bathrooms - Number of bathrooms/House\n",
    "- sqft_living - Square footage of the home\n",
    "- sqft_lot - Square footage of the lot\n",
    "- floors - Total floors (levels) in house\n",
    "- waterfront - House which has a view to a waterfront\n",
    "- view - Has a view or not\n",
    "- condition - How good the condition is ( Overall )\n",
    "- grade - Overall grade given to the housing unit, based on King County grading system\n",
    "- sqft_above - Square footage of house apart from basement\n",
    "- sqft_basement - Square footage of the basement\n",
    "- yr_built - Built Year\n",
    "- yr_renovated - Year when house was renovated\n",
    "- zipcode - zip\n",
    "- lat - Latitude coordinate\n",
    "- long - Longitude coordinate\n",
    "- sqft_living15 - Living area of 15 surrounding this house.\n",
    "- sqft_lot15 - LotSize of 15 surrounding this house."
   ]
  },
  {
   "cell_type": "markdown",
   "metadata": {},
   "source": [
    "### Step1 : Load the dataset"
   ]
  },
  {
   "cell_type": "markdown",
   "metadata": {},
   "source": [
    "### Step 2: Select few variables for analysis\n",
    "\n",
    "Creat a new dataframe with only the following selected variables\n",
    "\n",
    "- price\n",
    "- bedrooms\n",
    "- bathrooms\n",
    "- sqft_living\n",
    "- sqft_lot\n",
    "- floors\n",
    "- sqft_above\n",
    "- sqft_basement\n",
    "- sqft_living15\n",
    "- sqft_lot15"
   ]
  },
  {
   "cell_type": "markdown",
   "metadata": {},
   "source": [
    "### Step 4: Create a heatmap to understand which variables are highly correlated with price"
   ]
  },
  {
   "cell_type": "markdown",
   "metadata": {},
   "source": [
    "### Step 5: Set X and Y Variables\n",
    "\n",
    "Note: We are going to build a linear model to predict the price of the house using other variables\n",
    "\n",
    "- *price* will Y variable.\n",
    "- All other variables will be X variables."
   ]
  },
  {
   "cell_type": "markdown",
   "metadata": {},
   "source": [
    "### Step 6: Split the dataset: 80% as training and 20% as test set\n",
    "\n",
    "Note: Use random state as 100"
   ]
  },
  {
   "cell_type": "markdown",
   "metadata": {},
   "source": [
    "### Step 7: Build a linear regression model using training set"
   ]
  },
  {
   "cell_type": "markdown",
   "metadata": {},
   "source": [
    "### Step 8: Predict price on test set"
   ]
  },
  {
   "cell_type": "markdown",
   "metadata": {},
   "source": [
    "### Step 9: Calculate RMSE"
   ]
  },
  {
   "cell_type": "markdown",
   "metadata": {},
   "source": [
    "### Step 10: Calculate RMSE"
   ]
  },
  {
   "cell_type": "markdown",
   "metadata": {},
   "source": [
    "### Step 11: Verify the R-squared for linear model using K Fold Cross Validation\n",
    "\n",
    "Note: Use cv=10"
   ]
  },
  {
   "cell_type": "markdown",
   "metadata": {},
   "source": [
    "### Step 12: Save the model into a file"
   ]
  },
  {
   "cell_type": "markdown",
   "metadata": {},
   "source": [
    "# Optional Steps"
   ]
  },
  {
   "cell_type": "markdown",
   "metadata": {},
   "source": [
    "### Adding zipcode as a factor to the model"
   ]
  },
  {
   "cell_type": "markdown",
   "metadata": {},
   "source": [
    "### Step 13: Encode zipcode variable\n",
    "\n",
    "Tips:\n",
    "\n",
    "\n",
    "1. old_df = house_df[ all featues listed in step 2 + zipcode ]\n",
    "\n",
    "2. new_df = pd.get_dummies( old_df, columns = ['zipcode'] )\n",
    "\n",
    "3. Then split the new_df into train and test sets using 80:20 ratio"
   ]
  },
  {
   "cell_type": "markdown",
   "metadata": {},
   "source": [
    "### Step 14: Build a Linear Model "
   ]
  },
  {
   "cell_type": "markdown",
   "metadata": {},
   "source": [
    "### Step 15: Predict on test set and calculate RMSE and R2 Score"
   ]
  }
 ],
 "metadata": {
  "kernelspec": {
   "display_name": "Python [default]",
   "language": "python",
   "name": "python3"
  },
  "language_info": {
   "codemirror_mode": {
    "name": "ipython",
    "version": 3
   },
   "file_extension": ".py",
   "mimetype": "text/x-python",
   "name": "python",
   "nbconvert_exporter": "python",
   "pygments_lexer": "ipython3",
   "version": "3.5.5"
  }
 },
 "nbformat": 4,
 "nbformat_minor": 2
}
